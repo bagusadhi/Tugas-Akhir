{
 "cells": [
  {
   "cell_type": "code",
   "execution_count": 2,
   "id": "9cb03ee4",
   "metadata": {},
   "outputs": [],
   "source": [
    "import glob\n",
    "import os\n",
    "import numpy as np\n",
    "import librosa as lb\n",
    "from numpy import asarray\n",
    "from numpy import savez_compressed"
   ]
  },
  {
   "cell_type": "code",
   "execution_count": 5,
   "id": "1843cc60",
   "metadata": {},
   "outputs": [],
   "source": [
    "#Bagian Test\n",
    "name_machine = [\"bearing\", \"fan\", \"gearbox\",\"slider\", \"ToyCar\", \"ToyTrain\", \"valve\"]\n",
    "for machine in name_machine:\n",
    "    data = []\n",
    "    for i in glob.glob(f\"/TA/bagus_adhi/dev_data/{machine}/test/*.wav\"):\n",
    "        label = i.split('_')[4]\n",
    "        if label == 'target':#pilih source atau target\n",
    "            label = i\n",
    "            wav, sr = lb.load(i,sr=None) #sampling rate (none) agar pake sampling rate dari dataset bukan bawaaan dari librosa\n",
    "            melspec=lb.feature.melspectrogram(y=wav, sr=sr, n_fft=1024, hop_length=401) #me\n",
    "            data.append(melspec)\n",
    "    data = np.array(data)\n",
    "    np.save ('x_test.npy', data)\n",
    "    \n",
    "    #Bagian Train\n",
    "    nilai = []\n",
    "    for i in glob.glob(f\"/TA/bagus_adhi/dev_data/{machine}/train/*.wav\"):\n",
    "        wav, sr = lb.load(i,sr=None) #sampling rate (none) agar pake sampling rate dari dataset bukan bawaaan dari librosa\n",
    "        melspec=lb.feature.melspectrogram(y=wav, sr=sr, n_fft=1024, hop_length=401) #merubah file wav (1 dimensi) menjadi melspectogram (2 dimensi)\n",
    "        #mel = skimage.measure.block_reduce(melspec, (4,4), np.average)\n",
    "        nilai.append(melspec) # yang di append (disatuin) itu data melspec\n",
    "\n",
    "    nilai = np.array(nilai)\n",
    "    np.save ('x_train.npy', nilai)\n",
    "\n",
    "\n",
    "\n",
    "\n",
    "    #===============================================================================\n",
    "    #PELABELAN\n",
    "\n",
    "    #Bagian Test\n",
    "\n",
    "    labels = []\n",
    "    for i in glob.glob(f\"/TA/bagus_adhi/dev_data/{machine}/test/*.wav\"):\n",
    "        label = i.split('_')[4]\n",
    "        if label == 'target':#pilih source atau target\n",
    "            label = i        \n",
    "            name=i.split('_')[3]\n",
    "            name_label = name[1]\n",
    "            labels.append(name_label)\n",
    "\n",
    "    labels = np.array(labels)\n",
    "    np.save ('y_test.npy', labels)\n",
    "\n",
    "\n",
    "    #Bagian Train\n",
    "\n",
    "    directory = f'/TA/bagus_adhi/dev_data/{machine}/train'\n",
    "\n",
    "    #Wadah append\n",
    "    logo = []\n",
    "    types={'00':0, '01':1, '02':2}\n",
    "    for i in os.listdir(directory):\n",
    "      if (i.endswith('.wav')): #jika nama file berakhiran .wav maka akan lanjut jalan (kasus 1 folder banyak format)\n",
    "         label=i.split('_')[1] #memisahkan simbol '_' dan diambil kata ke 4 yaitu (anomaly/normal)\n",
    "         category=types[label]\n",
    "         #print(label, category)\n",
    "         logo.append(category)\n",
    "\n",
    "    np.save ('y_train.npy', logo)\n",
    "\n",
    "    np.savez_compressed(f\"{machine}_target2022.npz\", x_test=data, x_train=nilai, y_train=logo, y_test=labels)\n",
    "\n",
    "\n",
    "\n",
    " "
   ]
  },
  {
   "cell_type": "code",
   "execution_count": 87,
   "id": "df9dba9a",
   "metadata": {},
   "outputs": [
    {
     "data": {
      "text/plain": [
       "'/TA/bagus_adhi/BiGAN/BiGAN_ukuran_asli/data/datasets_bigan/source'"
      ]
     },
     "execution_count": 87,
     "metadata": {},
     "output_type": "execute_result"
    }
   ],
   "source": [
    " "
   ]
  },
  {
   "cell_type": "code",
   "execution_count": null,
   "id": "e637e479",
   "metadata": {},
   "outputs": [],
   "source": []
  }
 ],
 "metadata": {
  "kernelspec": {
   "display_name": "Python 3 (ipykernel)",
   "language": "python",
   "name": "python3"
  },
  "language_info": {
   "codemirror_mode": {
    "name": "ipython",
    "version": 3
   },
   "file_extension": ".py",
   "mimetype": "text/x-python",
   "name": "python",
   "nbconvert_exporter": "python",
   "pygments_lexer": "ipython3",
   "version": "3.8.10"
  }
 },
 "nbformat": 4,
 "nbformat_minor": 5
}
