{
 "cells": [
  {
   "cell_type": "code",
   "execution_count": 1,
   "id": "3bb226a9",
   "metadata": {},
   "outputs": [],
   "source": [
    "import numpy as np\n",
    "import glob\n",
    "import librosa as lb\n",
    "import os"
   ]
  },
  {
   "cell_type": "markdown",
   "id": "c44217d2",
   "metadata": {},
   "source": [
    "# TES DATASETS"
   ]
  },
  {
   "cell_type": "code",
   "execution_count": 56,
   "id": "6332e449",
   "metadata": {},
   "outputs": [
    {
     "name": "stdout",
     "output_type": "stream",
     "text": [
      "full_y_data2021 :[0 0 0 ... 2 2 2]\n",
      "Shape setelah di concate x_train :(3009, 128, 400) dan x_test :(600, 128, 400) adalah:(3609, 128, 400)\n",
      "Shape setelah di concate y_train :(3009,) dan y_test :(600,) adalah:(3609,)\n",
      "full_y_data2021!= label : [False False False ...  True  True  True]\n",
      "(2406, 128, 400)\n",
      "(2406,)\n",
      "inds : (2406,)\n",
      "normal_x_data2021 : (2406, 128, 400)\n",
      "normal_y_data2021 : (2406,)\n",
      "index : 1924\n",
      "training_x_data2021 : (1924, 128, 400)\n",
      "training_y_data2021 : (1924,)\n",
      "normal_x_data2021[index:] :(482, 128, 400)\n",
      "full_x_data2021[full_y_data == label] :(1203, 128, 400)\n",
      "testing_x_data2021 : concate antara (482, 128, 400) dengan (1203, 128, 400)\n",
      "testing_x_data2021 : (1685, 128, 400)\n",
      "testing_y_data2021 : concate antara (482,) dengan (1203,)\n",
      "testing_y_data2021 : (1685,)\n"
     ]
    }
   ],
   "source": [
    "# BIGAN 2021\n",
    "def _get_adapted_dataset2021(label=None):\n",
    "    data = np.load('/TA/bagus_adhi/BiGAN/BiGAN_ukuran_asli/data/datasets_bigan/source/fan_source.npz')\n",
    "    dataset = {}\n",
    "\n",
    "    full_x_data2021 = np.concatenate([data['x_train'], data['x_test']], axis=0)\n",
    "    full_y_data2021 = np.concatenate([data['y_train'], data['y_test']], axis=0)\n",
    "    #print(f\"full_x_data2021 :{full_x_data2021}\")\n",
    "    print(f\"full_y_data2021 :{full_y_data2021}\")\n",
    "    \n",
    "    print(f\"Shape setelah di concate x_train :{data['x_train'].shape} dan x_test :{data['x_test'].shape} adalah:{full_x_data2021.shape}\")\n",
    "    print(f\"Shape setelah di concate y_train :{data['y_train'].shape} dan y_test :{data['y_test'].shape} adalah:{full_y_data2021.shape}\")\n",
    "    \n",
    "    normal_x_data2021 = full_x_data2021[full_y_data2021!= label]\n",
    "    normal_y_data2021 = full_y_data2021[full_y_data2021!= label]\n",
    "    \n",
    "    print(f\"full_y_data2021!= label : {full_y_data2021!= label}\")\n",
    "    \n",
    "    print(normal_x_data2021.shape)\n",
    "    print(normal_y_data2021.shape)\n",
    "    \n",
    "    inds = RNG.permutation(normal_x_data2021.shape[0])\n",
    "    normal_x_data2021 = normal_x_data2021[inds]\n",
    "    normal_y_data2021 = normal_y_data2021[inds]\n",
    "    \n",
    "    print(f\"inds : {inds.shape}\")\n",
    "    print(f\"normal_x_data2021 : {normal_x_data2021.shape}\")\n",
    "    print(f\"normal_y_data2021 : {normal_y_data2021.shape}\")\n",
    "    \n",
    "    index = int(normal_x_data2021.shape[0]*0.8)\n",
    "    \n",
    "    print(f\"index : {index}\")\n",
    "\n",
    "    training_x_data2021 = normal_x_data2021[:index]\n",
    "    training_y_data2021 = normal_y_data2021[:index]\n",
    "    print(f\"training_x_data2021 : {training_x_data2021.shape}\")\n",
    "    print(f\"training_y_data2021 : {training_y_data2021.shape}\")\n",
    "    \n",
    "    print(f\"normal_x_data2021[index:] :{normal_x_data2021[index:].shape}\")\n",
    "    print(f\"full_x_data2021[full_y_data == label] :{full_x_data2021[full_y_data2021 == label].shape}\")\n",
    "    \n",
    "    testing_x_data2021 = np.concatenate([normal_x_data2021[index:], full_x_data2021[full_y_data2021 == label]], axis=0)\n",
    "    testing_y_data2021 = np.concatenate([normal_y_data2021[index:], full_y_data2021[full_y_data2021 == label]], axis=0)\n",
    "    print(f\"testing_x_data2021 : concate antara {normal_x_data2021[index:].shape} dengan {full_x_data2021[full_y_data == label].shape}\")\n",
    "    print(f\"testing_x_data2021 : {testing_x_data2021.shape}\")\n",
    "    print(f\"testing_y_data2021 : concate antara {normal_y_data2021[index:].shape} dengan {full_y_data2021[full_y_data == label].shape}\")\n",
    "    print(f\"testing_y_data2021 : {testing_y_data2021.shape}\")\n",
    "\n",
    "_get_adapted_dataset2021(0)"
   ]
  },
  {
   "cell_type": "code",
   "execution_count": 61,
   "id": "d171948e",
   "metadata": {},
   "outputs": [
    {
     "name": "stdout",
     "output_type": "stream",
     "text": [
      "full_y_data2022 :[0 2 2 ... 0 2 2]\n",
      "Shape setelah di concate x_train :(3000, 128, 400) dan x_test :(300, 128, 400) adalah:(3300, 128, 400)\n",
      "Shape setelah di concate y_train :(3000,) dan y_test :(300,) adalah:(3300,)\n",
      "full_y_data2022!= label : [False  True  True ... False  True  True]\n",
      "(2200, 128, 400)\n",
      "(2200,)\n",
      "inds : (2200,)\n",
      "normal_x_data2022 : (2200, 128, 400)\n",
      "normal_y_data2022 : (2200,)\n",
      "index : 1760\n",
      "training_x_data2022 : (1760, 128, 400)\n",
      "training_y_data2022 : (1760,)\n",
      "normal_x_data2022[index:] :(440, 128, 400)\n",
      "full_x_data2022[full_y_data2022 == label] :(1100, 128, 400)\n",
      "testing_x_data2022 : concate antara (440, 128, 400) dengan (1100, 128, 400)\n",
      "testing_x_data2022 : (1540, 128, 400)\n",
      "testing_y_data2022 : concate antara (440,) dengan (1100,)\n",
      "testing_y_data2022 : (1540,)\n"
     ]
    }
   ],
   "source": [
    "#BIGAN 2022\n",
    "RANDOM_SEED = 42\n",
    "RNG = np.random.RandomState(42)\n",
    "\n",
    "def _get_adapted_dataset2022(label=None):\n",
    "    data = np.load('/TA/bagus_adhi/BiGAN/bigan_2022/data/datasets_bigan/source/fan_source2022.npz')\n",
    "    dataset = {}\n",
    "\n",
    "    full_x_data2022 = np.concatenate([data['x_train'], data['x_test']], axis=0)\n",
    "    full_y_data2022 = np.concatenate([data['y_train'], data['y_test']], axis=0)\n",
    "    full_y_data2022 = np.array(list(map(int, full_y_data2022))) #PROBLEM SOLVING\n",
    "    print(f\"full_y_data2022 :{full_y_data2022}\")\n",
    "\n",
    "    print(f\"Shape setelah di concate x_train :{data['x_train'].shape} dan x_test :{data['x_test'].shape} adalah:{full_x_data2022.shape}\")\n",
    "    print(f\"Shape setelah di concate y_train :{data['y_train'].shape} dan y_test :{data['y_test'].shape} adalah:{full_y_data2022.shape}\")\n",
    "\n",
    "    normal_x_data2022 = full_x_data2022[full_y_data2022!= label]\n",
    "    normal_y_data2022 = full_y_data2022[full_y_data2022!= label]\n",
    "    \n",
    "    print(f\"full_y_data2022!= label : {full_y_data2022!= label}\")\n",
    "\n",
    "    print(normal_x_data2022.shape)\n",
    "    print(normal_y_data2022.shape)\n",
    "    \n",
    "    inds = RNG.permutation(normal_x_data2022.shape[0])\n",
    "    normal_x_data2022 = normal_x_data2022[inds]\n",
    "    normal_y_data2022 = normal_y_data2022[inds]\n",
    "\n",
    "    print(f\"inds : {inds.shape}\")\n",
    "    print(f\"normal_x_data2022 : {normal_x_data2022.shape}\")\n",
    "    print(f\"normal_y_data2022 : {normal_y_data2022.shape}\")\n",
    "    \n",
    "    index = int(normal_x_data2022.shape[0]*0.8)\n",
    "    \n",
    "    print(f\"index : {index}\")\n",
    "\n",
    "    training_x_data2022 = normal_x_data2022[:index]\n",
    "    training_y_data2022 = normal_y_data2022[:index]\n",
    "    print(f\"training_x_data2022 : {training_x_data2022.shape}\")\n",
    "    print(f\"training_y_data2022 : {training_y_data2022.shape}\")\n",
    "    \n",
    "    print(f\"normal_x_data2022[index:] :{normal_x_data2022[index:].shape}\")\n",
    "    print(f\"full_x_data2022[full_y_data2022 == label] :{full_x_data2022[full_y_data2022 == label].shape}\")\n",
    "    \n",
    "    testing_x_data2022 = np.concatenate([normal_x_data2022[index:], full_x_data2022[full_y_data2022 == label]], axis=0)\n",
    "    testing_y_data2022 = np.concatenate([normal_y_data2022[index:], full_y_data2022[full_y_data2022 == label]], axis=0)\n",
    "    print(f\"testing_x_data2022 : concate antara {normal_x_data2022[index:].shape} dengan {full_x_data2022[full_y_data2022 == label].shape}\")\n",
    "    print(f\"testing_x_data2022 : {testing_x_data2022.shape}\")\n",
    "    print(f\"testing_y_data2022 : concate antara {normal_y_data2022[index:].shape} dengan {full_y_data2022[full_y_data2022 == label].shape}\")\n",
    "    print(f\"testing_y_data2022 : {testing_y_data2022.shape}\")\n",
    "    \n",
    "\n",
    "_get_adapted_dataset2022(0)\n"
   ]
  },
  {
   "cell_type": "markdown",
   "id": "86f81b32",
   "metadata": {},
   "source": [
    "# Kesimpulan\n",
    "## Error disebabkan karena pada pre processing dataset dcase 2022, ketika setup label (y_train dan y_test) disimpan dalam bentuk array string, seharusnya dalam bentuk array integer.\n",
    "\n",
    "## Sudah diatasi dengan memodifikasi coding bigan dengan meng-convert string array ke integer array"
   ]
  },
  {
   "cell_type": "code",
   "execution_count": null,
   "id": "f0e07d4b",
   "metadata": {},
   "outputs": [],
   "source": []
  }
 ],
 "metadata": {
  "kernelspec": {
   "display_name": "Python 3 (ipykernel)",
   "language": "python",
   "name": "python3"
  },
  "language_info": {
   "codemirror_mode": {
    "name": "ipython",
    "version": 3
   },
   "file_extension": ".py",
   "mimetype": "text/x-python",
   "name": "python",
   "nbconvert_exporter": "python",
   "pygments_lexer": "ipython3",
   "version": "3.8.10"
  }
 },
 "nbformat": 4,
 "nbformat_minor": 5
}
