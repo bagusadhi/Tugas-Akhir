{
 "cells": [
  {
   "cell_type": "code",
   "execution_count": 7,
   "id": "195e0c88",
   "metadata": {},
   "outputs": [],
   "source": [
    "import glob\n",
    "import os\n",
    "import numpy as np\n",
    "import librosa as lb\n",
    "from numpy import asarray\n",
    "from numpy import savez_compressed\n",
    "import skimage.measure\n",
    "\n",
    "\n",
    "#Bagian Test\n",
    "\n",
    "data = []\n",
    "for i in glob.glob(\"D:/Folder Pribadi Asisten/Bagus/DCASE/data/valve/target_test/*.wav\"):\n",
    "    wav, sr = lb.load(i,sr=None) #sampling rate (none) agar pake sampling rate dari dataset bukan bawaaan dari librosa\n",
    "    melspec=lb.feature.melspectrogram(y=wav, sr=sr, n_fft=1024, hop_length=401) #merubah file wav (1 dimensi) menjadi melspectogram (2 dimensi)\n",
    "    #mel = skimage.measure.block_reduce(melspec, (4,4), np.average)\n",
    "    data.append(melspec) # yang di append (diinsert) itu data melspec ke list data (data kosong)\n",
    "    \n",
    "\n",
    "data = np.array(data)\n",
    "np.save ('x_test.npy', data)\n",
    "\n",
    "\n",
    "#Bagian Train\n",
    "\n",
    "nilai = []\n",
    "for i in glob.glob(\"D:/Folder Pribadi Asisten/Bagus/DCASE/data/valve/train/*.wav\"):\n",
    "    wav, sr = lb.load(i,sr=None) #sampling rate (none) agar pake sampling rate dari dataset bukan bawaaan dari librosa\n",
    "    melspec=lb.feature.melspectrogram(y=wav, sr=sr, n_fft=1024, hop_length=401) #merubah file wav (1 dimensi) menjadi melspectogram (2 dimensi)\n",
    "    #mel = skimage.measure.block_reduce(melspec, (4,4), np.average)\n",
    "    nilai.append(melspec) # yang di append (disatuin) itu data melspec\n",
    "    \n",
    "nilai = np.array(nilai)\n",
    "np.save ('x_train.npy', nilai)\n",
    "\n",
    "\n",
    "#===============================================================================\n",
    "#PELABELAN\n",
    "\n",
    "#Bagian Test\n",
    "\n",
    "directory = 'D:/Folder Pribadi Asisten/Bagus/DCASE/data/valve/target_test'\n",
    "\n",
    "#Wadah append\n",
    "labels = []\n",
    "types={'00':0, '01':1, '02':2}\n",
    "for i in os.listdir(directory):\n",
    "  if (i.endswith('.wav')): #jika nama file berakhiran .wav maka akan lanjut jalan (kasus 1 folder banyak format)\n",
    "     label=i.split('_')[1] #memisahkan simbol '_' dan diambil kata ke 4 yaitu (anomaly/normal)\n",
    "     category=types[label]\n",
    "     #print(label, category)\n",
    "     labels.append(category)\n",
    "    \n",
    "np.save ('y_test.npy', labels)\n",
    "\n",
    "\n",
    "#Bagian Train\n",
    "\n",
    "directory = 'D:/Folder Pribadi Asisten/Bagus/DCASE/data/valve/train'\n",
    "\n",
    "#Wadah append\n",
    "logo = []\n",
    "types={'00':0, '01':1, '02':2}\n",
    "for i in os.listdir(directory):\n",
    "  if (i.endswith('.wav')): #jika nama file berakhiran .wav maka akan lanjut jalan (kasus 1 folder banyak format)\n",
    "     label=i.split('_')[1] #memisahkan simbol '_' dan diambil kata ke 4 yaitu (anomaly/normal)\n",
    "     category=types[label]\n",
    "     #print(label, category)\n",
    "     logo.append(category)\n",
    "    \n",
    "np.save ('y_train.npy', logo)\n",
    "\n",
    "np.savez_compressed(\"valve_target3.npz\", x_test=data, x_train=nilai, y_train=logo, y_test=labels)"
   ]
  },
  {
   "cell_type": "code",
   "execution_count": 6,
   "id": "402d2ff2",
   "metadata": {},
   "outputs": [
    {
     "name": "stdout",
     "output_type": "stream",
     "text": [
      "(3009, 32, 100)\n"
     ]
    }
   ],
   "source": [
    "print(nilai.shape)"
   ]
  },
  {
   "cell_type": "code",
   "execution_count": 7,
   "id": "bdbdaa6c",
   "metadata": {},
   "outputs": [
    {
     "name": "stdout",
     "output_type": "stream",
     "text": [
      "(600, 32, 100)\n"
     ]
    }
   ],
   "source": [
    "print(data.shape)"
   ]
  },
  {
   "cell_type": "code",
   "execution_count": 13,
   "id": "25d234fc",
   "metadata": {},
   "outputs": [
    {
     "name": "stdout",
     "output_type": "stream",
     "text": [
      "[0 0 0 ... 2 2 2]\n"
     ]
    }
   ],
   "source": [
    "print(np.array(logo))"
   ]
  },
  {
   "cell_type": "code",
   "execution_count": 25,
   "id": "67a4c587",
   "metadata": {},
   "outputs": [
    {
     "name": "stdout",
     "output_type": "stream",
     "text": [
      " Volume in drive D is BackUp\n",
      " Volume Serial Number is 1E79-EF4A\n",
      "\n",
      " Directory of D:\\Folder Pribadi Asisten\\Bagus\\datasets_mini\\source\n",
      "\n",
      "03/04/2022  15.17    <DIR>          .\n",
      "03/04/2022  15.17    <DIR>          ..\n",
      "03/04/2022  14.52    <DIR>          .ipynb_checkpoints\n",
      "03/04/2022  13.49            69.066 atur_dataset_mini_source.ipynb\n",
      "03/04/2022  15.16             6.233 dataset_source.ipynb\n",
      "03/04/2022  14.10        42.594.586 fan_source3.npz\n",
      "03/04/2022  14.54        44.609.482 gearbox_source3.npz\n",
      "03/04/2022  15.05        42.540.164 pump_source3.npz\n",
      "03/04/2022  15.10        42.721.391 slider_source3.npz\n",
      "03/04/2022  15.13        43.120.213 ToyCar_source3.npz\n",
      "03/04/2022  15.16        42.859.609 ToyTrain_source3.npz\n",
      "03/04/2022  15.17        42.620.504 valve_source3.npz\n",
      "03/04/2022  15.17         7.680.128 x_test.npy\n",
      "03/04/2022  15.17        38.515.328 x_train.npy\n",
      "03/04/2022  15.17             2.528 y_test.npy\n",
      "03/04/2022  15.17            12.164 y_train.npy\n",
      "              13 File(s)    347.351.396 bytes\n",
      "               3 Dir(s)  471.749.332.992 bytes free\n"
     ]
    }
   ],
   "source": [
    "ls"
   ]
  },
  {
   "cell_type": "code",
   "execution_count": 20,
   "id": "1cb20a7d",
   "metadata": {},
   "outputs": [
    {
     "name": "stdout",
     "output_type": "stream",
     "text": [
      "(3009, 32, 100)\n"
     ]
    }
   ],
   "source": [
    "print(np.load('D:/Folder Pribadi Asisten/Bagus/datasets_mini/source/x_train.npy').shape)"
   ]
  },
  {
   "cell_type": "code",
   "execution_count": null,
   "id": "e1d83f1b",
   "metadata": {},
   "outputs": [],
   "source": []
  }
 ],
 "metadata": {
  "kernelspec": {
   "display_name": "Python 3",
   "language": "python",
   "name": "python3"
  },
  "language_info": {
   "codemirror_mode": {
    "name": "ipython",
    "version": 3
   },
   "file_extension": ".py",
   "mimetype": "text/x-python",
   "name": "python",
   "nbconvert_exporter": "python",
   "pygments_lexer": "ipython3",
   "version": "3.6.7"
  }
 },
 "nbformat": 4,
 "nbformat_minor": 5
}
